{
 "cells": [
  {
   "cell_type": "code",
   "execution_count": 183,
   "id": "73b50a05",
   "metadata": {},
   "outputs": [],
   "source": [
    "import pandas as pd\n",
    "import numpy as np\n",
    "import matplotlib.pyplot as plt\n",
    "%matplotlib inline\n",
    "\n",
    "from sklearn.datasets import load_breast_cancer"
   ]
  },
  {
   "cell_type": "code",
   "execution_count": 184,
   "id": "568bbc2d",
   "metadata": {},
   "outputs": [],
   "source": [
    "data= load_breast_cancer()"
   ]
  },
  {
   "cell_type": "code",
   "execution_count": 185,
   "id": "3bf8551c",
   "metadata": {},
   "outputs": [
    {
     "data": {
      "text/plain": [
       "dict_keys(['data', 'target', 'frame', 'target_names', 'DESCR', 'feature_names', 'filename'])"
      ]
     },
     "execution_count": 185,
     "metadata": {},
     "output_type": "execute_result"
    }
   ],
   "source": [
    "data.keys()"
   ]
  },
  {
   "cell_type": "code",
   "execution_count": 186,
   "id": "83a2c132",
   "metadata": {},
   "outputs": [],
   "source": [
    "df= pd.DataFrame(data.data)"
   ]
  },
  {
   "cell_type": "code",
   "execution_count": 187,
   "id": "2726f41a",
   "metadata": {},
   "outputs": [],
   "source": [
    "df.columns= [data.feature_names]"
   ]
  },
  {
   "cell_type": "code",
   "execution_count": 188,
   "id": "7f8b12d7",
   "metadata": {},
   "outputs": [],
   "source": [
    "X=df"
   ]
  },
  {
   "cell_type": "code",
   "execution_count": 189,
   "id": "c1ae5300",
   "metadata": {},
   "outputs": [],
   "source": [
    "Y= pd.DataFrame(data.target)"
   ]
  },
  {
   "cell_type": "code",
   "execution_count": 190,
   "id": "2be9f353",
   "metadata": {},
   "outputs": [
    {
     "data": {
      "text/html": [
       "<div>\n",
       "<style scoped>\n",
       "    .dataframe tbody tr th:only-of-type {\n",
       "        vertical-align: middle;\n",
       "    }\n",
       "\n",
       "    .dataframe tbody tr th {\n",
       "        vertical-align: top;\n",
       "    }\n",
       "\n",
       "    .dataframe thead th {\n",
       "        text-align: right;\n",
       "    }\n",
       "</style>\n",
       "<table border=\"1\" class=\"dataframe\">\n",
       "  <thead>\n",
       "    <tr style=\"text-align: right;\">\n",
       "      <th></th>\n",
       "      <th>0</th>\n",
       "    </tr>\n",
       "  </thead>\n",
       "  <tbody>\n",
       "    <tr>\n",
       "      <th>0</th>\n",
       "      <td>0</td>\n",
       "    </tr>\n",
       "    <tr>\n",
       "      <th>1</th>\n",
       "      <td>0</td>\n",
       "    </tr>\n",
       "    <tr>\n",
       "      <th>2</th>\n",
       "      <td>0</td>\n",
       "    </tr>\n",
       "    <tr>\n",
       "      <th>3</th>\n",
       "      <td>0</td>\n",
       "    </tr>\n",
       "    <tr>\n",
       "      <th>4</th>\n",
       "      <td>0</td>\n",
       "    </tr>\n",
       "    <tr>\n",
       "      <th>...</th>\n",
       "      <td>...</td>\n",
       "    </tr>\n",
       "    <tr>\n",
       "      <th>564</th>\n",
       "      <td>0</td>\n",
       "    </tr>\n",
       "    <tr>\n",
       "      <th>565</th>\n",
       "      <td>0</td>\n",
       "    </tr>\n",
       "    <tr>\n",
       "      <th>566</th>\n",
       "      <td>0</td>\n",
       "    </tr>\n",
       "    <tr>\n",
       "      <th>567</th>\n",
       "      <td>0</td>\n",
       "    </tr>\n",
       "    <tr>\n",
       "      <th>568</th>\n",
       "      <td>1</td>\n",
       "    </tr>\n",
       "  </tbody>\n",
       "</table>\n",
       "<p>569 rows × 1 columns</p>\n",
       "</div>"
      ],
      "text/plain": [
       "     0\n",
       "0    0\n",
       "1    0\n",
       "2    0\n",
       "3    0\n",
       "4    0\n",
       "..  ..\n",
       "564  0\n",
       "565  0\n",
       "566  0\n",
       "567  0\n",
       "568  1\n",
       "\n",
       "[569 rows x 1 columns]"
      ]
     },
     "execution_count": 190,
     "metadata": {},
     "output_type": "execute_result"
    }
   ],
   "source": [
    "Y"
   ]
  },
  {
   "cell_type": "code",
   "execution_count": null,
   "id": "6885f3ad",
   "metadata": {},
   "outputs": [],
   "source": []
  },
  {
   "cell_type": "code",
   "execution_count": 191,
   "id": "5802b594",
   "metadata": {},
   "outputs": [],
   "source": [
    "from sklearn.model_selection import train_test_split"
   ]
  },
  {
   "cell_type": "code",
   "execution_count": 192,
   "id": "eff20273",
   "metadata": {},
   "outputs": [],
   "source": [
    "X_train,X_test,Y_train,Y_test= train_test_split(X,Y,test_size=.3,random_state=44)"
   ]
  },
  {
   "cell_type": "code",
   "execution_count": 193,
   "id": "5a529331",
   "metadata": {},
   "outputs": [
    {
     "data": {
      "text/plain": [
       "(398, 30)"
      ]
     },
     "execution_count": 193,
     "metadata": {},
     "output_type": "execute_result"
    }
   ],
   "source": [
    "X_train.shape"
   ]
  },
  {
   "cell_type": "code",
   "execution_count": 194,
   "id": "b28a442c",
   "metadata": {},
   "outputs": [
    {
     "data": {
      "text/plain": [
       "(171, 30)"
      ]
     },
     "execution_count": 194,
     "metadata": {},
     "output_type": "execute_result"
    }
   ],
   "source": [
    "X_test.shape"
   ]
  },
  {
   "cell_type": "code",
   "execution_count": 195,
   "id": "c5271413",
   "metadata": {},
   "outputs": [
    {
     "data": {
      "text/plain": [
       "(398, 1)"
      ]
     },
     "execution_count": 195,
     "metadata": {},
     "output_type": "execute_result"
    }
   ],
   "source": [
    "Y_train.shape"
   ]
  },
  {
   "cell_type": "code",
   "execution_count": 196,
   "id": "f205458e",
   "metadata": {},
   "outputs": [
    {
     "data": {
      "text/plain": [
       "(171, 1)"
      ]
     },
     "execution_count": 196,
     "metadata": {},
     "output_type": "execute_result"
    }
   ],
   "source": [
    "Y_test.shape"
   ]
  },
  {
   "cell_type": "code",
   "execution_count": 197,
   "id": "192e8712",
   "metadata": {},
   "outputs": [
    {
     "data": {
      "text/html": [
       "<div>\n",
       "<style scoped>\n",
       "    .dataframe tbody tr th:only-of-type {\n",
       "        vertical-align: middle;\n",
       "    }\n",
       "\n",
       "    .dataframe tbody tr th {\n",
       "        vertical-align: top;\n",
       "    }\n",
       "\n",
       "    .dataframe thead th {\n",
       "        text-align: right;\n",
       "    }\n",
       "</style>\n",
       "<table border=\"1\" class=\"dataframe\">\n",
       "  <thead>\n",
       "    <tr style=\"text-align: right;\">\n",
       "      <th></th>\n",
       "      <th>0</th>\n",
       "    </tr>\n",
       "  </thead>\n",
       "  <tbody>\n",
       "    <tr>\n",
       "      <th>0</th>\n",
       "      <td>0</td>\n",
       "    </tr>\n",
       "    <tr>\n",
       "      <th>1</th>\n",
       "      <td>0</td>\n",
       "    </tr>\n",
       "    <tr>\n",
       "      <th>2</th>\n",
       "      <td>0</td>\n",
       "    </tr>\n",
       "    <tr>\n",
       "      <th>3</th>\n",
       "      <td>0</td>\n",
       "    </tr>\n",
       "    <tr>\n",
       "      <th>4</th>\n",
       "      <td>0</td>\n",
       "    </tr>\n",
       "    <tr>\n",
       "      <th>...</th>\n",
       "      <td>...</td>\n",
       "    </tr>\n",
       "    <tr>\n",
       "      <th>564</th>\n",
       "      <td>0</td>\n",
       "    </tr>\n",
       "    <tr>\n",
       "      <th>565</th>\n",
       "      <td>0</td>\n",
       "    </tr>\n",
       "    <tr>\n",
       "      <th>566</th>\n",
       "      <td>0</td>\n",
       "    </tr>\n",
       "    <tr>\n",
       "      <th>567</th>\n",
       "      <td>0</td>\n",
       "    </tr>\n",
       "    <tr>\n",
       "      <th>568</th>\n",
       "      <td>1</td>\n",
       "    </tr>\n",
       "  </tbody>\n",
       "</table>\n",
       "<p>569 rows × 1 columns</p>\n",
       "</div>"
      ],
      "text/plain": [
       "     0\n",
       "0    0\n",
       "1    0\n",
       "2    0\n",
       "3    0\n",
       "4    0\n",
       "..  ..\n",
       "564  0\n",
       "565  0\n",
       "566  0\n",
       "567  0\n",
       "568  1\n",
       "\n",
       "[569 rows x 1 columns]"
      ]
     },
     "execution_count": 197,
     "metadata": {},
     "output_type": "execute_result"
    }
   ],
   "source": [
    "Y"
   ]
  },
  {
   "cell_type": "markdown",
   "id": "f3fadd27",
   "metadata": {},
   "source": [
    "# Logistic Regression"
   ]
  },
  {
   "cell_type": "code",
   "execution_count": 198,
   "id": "57a10255",
   "metadata": {},
   "outputs": [],
   "source": [
    "from sklearn.linear_model import LogisticRegression\n",
    "\n"
   ]
  },
  {
   "cell_type": "code",
   "execution_count": 199,
   "id": "18920d13",
   "metadata": {},
   "outputs": [],
   "source": [
    "LG= LogisticRegression()"
   ]
  },
  {
   "cell_type": "code",
   "execution_count": 200,
   "id": "89bc1286",
   "metadata": {},
   "outputs": [
    {
     "data": {
      "text/plain": [
       "LogisticRegression()"
      ]
     },
     "execution_count": 200,
     "metadata": {},
     "output_type": "execute_result"
    }
   ],
   "source": [
    "LG.fit(X_train,Y_train)"
   ]
  },
  {
   "cell_type": "code",
   "execution_count": 201,
   "id": "808c45b6",
   "metadata": {},
   "outputs": [
    {
     "data": {
      "text/plain": [
       "array([0.07977852])"
      ]
     },
     "execution_count": 201,
     "metadata": {},
     "output_type": "execute_result"
    }
   ],
   "source": [
    "LG.intercept_"
   ]
  },
  {
   "cell_type": "code",
   "execution_count": 278,
   "id": "fa4d4193",
   "metadata": {},
   "outputs": [
    {
     "data": {
      "text/plain": [
       "array([[-1.08460975e-01,  5.84650690e-02, -3.00541728e-03,\n",
       "         2.48224704e+00, -1.98628063e+01,  2.89557385e+00,\n",
       "         7.90327843e-03, -1.77124360e+00,  3.14853373e-01,\n",
       "        -1.22351296e-02, -9.83264503e-01,  1.01770104e-02,\n",
       "        -5.63189746e-01]])"
      ]
     },
     "execution_count": 278,
     "metadata": {},
     "output_type": "execute_result"
    }
   ],
   "source": [
    "LG.coef_"
   ]
  },
  {
   "cell_type": "code",
   "execution_count": 203,
   "id": "2e5350fd",
   "metadata": {},
   "outputs": [],
   "source": [
    "# NEed to test the Model\n",
    "\n",
    "predict =LG.predict(X_test)"
   ]
  },
  {
   "cell_type": "code",
   "execution_count": 204,
   "id": "da78d926",
   "metadata": {},
   "outputs": [],
   "source": [
    "#Compare the model prediction\n",
    "\n",
    "from sklearn.metrics import accuracy_score\n",
    "from sklearn.metrics import confusion_matrix\n",
    "from sklearn.metrics import classification_report\n",
    "\n",
    "import warnings\n",
    "warnings.filterwarnings('ignore')"
   ]
  },
  {
   "cell_type": "code",
   "execution_count": 205,
   "id": "6ffad650",
   "metadata": {},
   "outputs": [
    {
     "data": {
      "text/plain": [
       "0.9707602339181286"
      ]
     },
     "execution_count": 205,
     "metadata": {},
     "output_type": "execute_result"
    }
   ],
   "source": [
    "accuracy_score(predict,Y_test)"
   ]
  },
  {
   "cell_type": "code",
   "execution_count": 206,
   "id": "358b5f48",
   "metadata": {},
   "outputs": [
    {
     "data": {
      "text/plain": [
       "array([[ 59,   1],\n",
       "       [  4, 107]], dtype=int64)"
      ]
     },
     "execution_count": 206,
     "metadata": {},
     "output_type": "execute_result"
    }
   ],
   "source": [
    "confusion_matrix(predict,Y_test)"
   ]
  },
  {
   "cell_type": "code",
   "execution_count": 207,
   "id": "b12be1b3",
   "metadata": {},
   "outputs": [
    {
     "name": "stdout",
     "output_type": "stream",
     "text": [
      "              precision    recall  f1-score   support\n",
      "\n",
      "           0       0.94      0.98      0.96        60\n",
      "           1       0.99      0.96      0.98       111\n",
      "\n",
      "    accuracy                           0.97       171\n",
      "   macro avg       0.96      0.97      0.97       171\n",
      "weighted avg       0.97      0.97      0.97       171\n",
      "\n"
     ]
    }
   ],
   "source": [
    "print(classification_report(predict,Y_test))"
   ]
  },
  {
   "cell_type": "markdown",
   "id": "490a5104",
   "metadata": {},
   "source": [
    "# Ridge CLassification()"
   ]
  },
  {
   "cell_type": "code",
   "execution_count": 208,
   "id": "b2beb8be",
   "metadata": {},
   "outputs": [],
   "source": [
    "from sklearn.linear_model import Ridge\n",
    "from sklearn.model_selection import GridSearchCV\n",
    "\n",
    "R= Ridge()"
   ]
  },
  {
   "cell_type": "code",
   "execution_count": 209,
   "id": "e2d0dd1c",
   "metadata": {},
   "outputs": [],
   "source": [
    "parameters={'alpha':[1e-15,1e-10,1e-8,1e-3,1e-2,1e1,1e5,1e10,1e20,1e30,1e35,1e40,1e45,1e50,1e55,1e100]}"
   ]
  },
  {
   "cell_type": "code",
   "execution_count": 210,
   "id": "830eaf4c",
   "metadata": {},
   "outputs": [],
   "source": [
    "ridge= GridSearchCV(R,parameters,scoring='neg_mean_squared_error', cv=5)"
   ]
  },
  {
   "cell_type": "code",
   "execution_count": 211,
   "id": "b4ec992a",
   "metadata": {},
   "outputs": [
    {
     "data": {
      "text/plain": [
       "GridSearchCV(cv=5, estimator=Ridge(),\n",
       "             param_grid={'alpha': [1e-15, 1e-10, 1e-08, 0.001, 0.01, 10.0,\n",
       "                                   100000.0, 10000000000.0, 1e+20, 1e+30, 1e+35,\n",
       "                                   1e+40, 1e+45, 1e+50, 1e+55, 1e+100]},\n",
       "             scoring='neg_mean_squared_error')"
      ]
     },
     "execution_count": 211,
     "metadata": {},
     "output_type": "execute_result"
    }
   ],
   "source": [
    "ridge.fit(X,Y)"
   ]
  },
  {
   "cell_type": "code",
   "execution_count": 212,
   "id": "c288c616",
   "metadata": {},
   "outputs": [
    {
     "data": {
      "text/plain": [
       "{'alpha': 0.01}"
      ]
     },
     "execution_count": 212,
     "metadata": {},
     "output_type": "execute_result"
    }
   ],
   "source": [
    "ridge.best_params_"
   ]
  },
  {
   "cell_type": "code",
   "execution_count": 213,
   "id": "65fe7034",
   "metadata": {},
   "outputs": [
    {
     "data": {
      "text/plain": [
       "-0.06353482471454908"
      ]
     },
     "execution_count": 213,
     "metadata": {},
     "output_type": "execute_result"
    }
   ],
   "source": [
    "ridge.best_score_"
   ]
  },
  {
   "cell_type": "code",
   "execution_count": null,
   "id": "bf6b50ed",
   "metadata": {},
   "outputs": [],
   "source": []
  },
  {
   "cell_type": "markdown",
   "id": "565713ca",
   "metadata": {},
   "source": [
    "# Boston house prediction"
   ]
  },
  {
   "cell_type": "code",
   "execution_count": 215,
   "id": "996ee558",
   "metadata": {},
   "outputs": [],
   "source": [
    "import pandas as pd\n",
    "import numpy as np\n",
    "import matplotlib.pyplot as plt\n",
    "%matplotlib inline"
   ]
  },
  {
   "cell_type": "code",
   "execution_count": 218,
   "id": "bcda7dfb",
   "metadata": {},
   "outputs": [],
   "source": [
    "# For Linear Regression\n",
    "from sklearn.metrics import mean_absolute_error\n",
    "from sklearn.metrics import mean_squared_error\n",
    "from sklearn.metrics import r2_score"
   ]
  },
  {
   "cell_type": "code",
   "execution_count": 219,
   "id": "ce6748d5",
   "metadata": {},
   "outputs": [],
   "source": [
    "# For Logistics Regression\n",
    "\n",
    "from sklearn.metrics import accuracy_score\n",
    "from sklearn.metrics import confusion_matrix\n",
    "from sklearn.metrics import classification_report"
   ]
  },
  {
   "cell_type": "code",
   "execution_count": 217,
   "id": "59803c74",
   "metadata": {},
   "outputs": [],
   "source": [
    "# Regression Models\n",
    "from sklearn.linear_model import LinearRegression\n",
    "from sklearn.linear_model import LogisticRegression"
   ]
  },
  {
   "cell_type": "code",
   "execution_count": 312,
   "id": "72223da9",
   "metadata": {},
   "outputs": [],
   "source": [
    "from sklearn.model_selection import train_test_split\n",
    "from sklearn.model_selection import GridSearchCV\n",
    "\n",
    "from sklearn.model_selection import cross_validate"
   ]
  },
  {
   "cell_type": "code",
   "execution_count": 221,
   "id": "139289c1",
   "metadata": {},
   "outputs": [],
   "source": [
    "# Lets work on continuous data\n",
    "from sklearn.datasets import load_boston"
   ]
  },
  {
   "cell_type": "code",
   "execution_count": 222,
   "id": "33c1f614",
   "metadata": {},
   "outputs": [],
   "source": [
    "data= load_boston()"
   ]
  },
  {
   "cell_type": "code",
   "execution_count": 223,
   "id": "a2943a84",
   "metadata": {},
   "outputs": [
    {
     "data": {
      "text/plain": [
       "dict_keys(['data', 'target', 'feature_names', 'DESCR', 'filename'])"
      ]
     },
     "execution_count": 223,
     "metadata": {},
     "output_type": "execute_result"
    }
   ],
   "source": [
    "data.keys()"
   ]
  },
  {
   "cell_type": "code",
   "execution_count": 224,
   "id": "bebde05c",
   "metadata": {},
   "outputs": [],
   "source": [
    "x= pd.DataFrame(data.data)"
   ]
  },
  {
   "cell_type": "code",
   "execution_count": 226,
   "id": "22cf148f",
   "metadata": {},
   "outputs": [],
   "source": [
    "x.columns= data.feature_names"
   ]
  },
  {
   "cell_type": "code",
   "execution_count": 228,
   "id": "d0d45bf2",
   "metadata": {},
   "outputs": [
    {
     "data": {
      "text/plain": [
       "(506, 13)"
      ]
     },
     "execution_count": 228,
     "metadata": {},
     "output_type": "execute_result"
    }
   ],
   "source": [
    "x.shape"
   ]
  },
  {
   "cell_type": "code",
   "execution_count": 229,
   "id": "65ce2a8c",
   "metadata": {},
   "outputs": [],
   "source": [
    "y=data.target"
   ]
  },
  {
   "cell_type": "code",
   "execution_count": 231,
   "id": "0e153b55",
   "metadata": {},
   "outputs": [
    {
     "data": {
      "text/plain": [
       "(506,)"
      ]
     },
     "execution_count": 231,
     "metadata": {},
     "output_type": "execute_result"
    }
   ],
   "source": [
    "y.shape"
   ]
  },
  {
   "cell_type": "code",
   "execution_count": 234,
   "id": "0db25a73",
   "metadata": {},
   "outputs": [],
   "source": [
    "y=y.reshape(-1,1)"
   ]
  },
  {
   "cell_type": "code",
   "execution_count": 235,
   "id": "0c45b4a5",
   "metadata": {},
   "outputs": [
    {
     "data": {
      "text/plain": [
       "(506, 1)"
      ]
     },
     "execution_count": 235,
     "metadata": {},
     "output_type": "execute_result"
    }
   ],
   "source": [
    "y.shape"
   ]
  },
  {
   "cell_type": "code",
   "execution_count": 242,
   "id": "f37d8cae",
   "metadata": {},
   "outputs": [],
   "source": [
    "# Simple Linear regression with Train_test\n",
    "\n",
    "x_train,x_test,y_train,y_test= train_test_split(x,y,test_size=.25,random_state=44)"
   ]
  },
  {
   "cell_type": "code",
   "execution_count": 243,
   "id": "45326504",
   "metadata": {},
   "outputs": [
    {
     "data": {
      "text/plain": [
       "(379, 13)"
      ]
     },
     "execution_count": 243,
     "metadata": {},
     "output_type": "execute_result"
    }
   ],
   "source": [
    "x_train.shape"
   ]
  },
  {
   "cell_type": "code",
   "execution_count": 244,
   "id": "d5477f23",
   "metadata": {},
   "outputs": [
    {
     "data": {
      "text/plain": [
       "(379, 1)"
      ]
     },
     "execution_count": 244,
     "metadata": {},
     "output_type": "execute_result"
    }
   ],
   "source": [
    "y_train.shape"
   ]
  },
  {
   "cell_type": "code",
   "execution_count": 245,
   "id": "6bd20d71",
   "metadata": {},
   "outputs": [
    {
     "data": {
      "text/plain": [
       "(127, 13)"
      ]
     },
     "execution_count": 245,
     "metadata": {},
     "output_type": "execute_result"
    }
   ],
   "source": [
    "x_test.shape"
   ]
  },
  {
   "cell_type": "code",
   "execution_count": 246,
   "id": "acaa0c3c",
   "metadata": {},
   "outputs": [
    {
     "data": {
      "text/plain": [
       "(127, 1)"
      ]
     },
     "execution_count": 246,
     "metadata": {},
     "output_type": "execute_result"
    }
   ],
   "source": [
    "y_test.shape"
   ]
  },
  {
   "cell_type": "code",
   "execution_count": 292,
   "id": "36cfbc5d",
   "metadata": {},
   "outputs": [
    {
     "data": {
      "text/plain": [
       "LinearRegression()"
      ]
     },
     "execution_count": 292,
     "metadata": {},
     "output_type": "execute_result"
    }
   ],
   "source": [
    "# Get the fit line\n",
    "LG= LinearRegression()\n",
    "\n",
    "LG.fit(x_train,y_train)"
   ]
  },
  {
   "cell_type": "code",
   "execution_count": 294,
   "id": "6b306849",
   "metadata": {},
   "outputs": [
    {
     "data": {
      "text/plain": [
       "array([44.69681327])"
      ]
     },
     "execution_count": 294,
     "metadata": {},
     "output_type": "execute_result"
    }
   ],
   "source": [
    "LG.intercept_"
   ]
  },
  {
   "cell_type": "code",
   "execution_count": 270,
   "id": "803de916",
   "metadata": {},
   "outputs": [
    {
     "name": "stdout",
     "output_type": "stream",
     "text": [
      "[-1.08460975e-01  5.84650690e-02 -3.00541728e-03  2.48224704e+00\n",
      " -1.98628063e+01  2.89557385e+00  7.90327843e-03 -1.77124360e+00\n",
      "  3.14853373e-01 -1.22351296e-02 -9.83264503e-01  1.01770104e-02\n",
      " -5.63189746e-01]\n"
     ]
    }
   ],
   "source": [
    "for i in LG.coef_:\n",
    "    print(i)"
   ]
  },
  {
   "cell_type": "code",
   "execution_count": 296,
   "id": "d9e7892a",
   "metadata": {},
   "outputs": [
    {
     "name": "stdout",
     "output_type": "stream",
     "text": [
      "CRIM  have coefficients =  -0.10846097497642349\n",
      "ZN  have coefficients =  0.05846506897139028\n",
      "INDUS  have coefficients =  -0.0030054172794143227\n",
      "CHAS  have coefficients =  2.482247038719293\n",
      "NOX  have coefficients =  -19.86280634016594\n",
      "RM  have coefficients =  2.8955738522036105\n",
      "AGE  have coefficients =  0.007903278426414789\n",
      "DIS  have coefficients =  -1.7712435966587188\n",
      "RAD  have coefficients =  0.31485337295382293\n",
      "TAX  have coefficients =  -0.012235129578972659\n",
      "PTRATIO  have coefficients =  -0.9832645029122277\n",
      "B  have coefficients =  0.010177010382446294\n",
      "LSTAT  have coefficients =  -0.5631897462718812\n"
     ]
    }
   ],
   "source": [
    "for i ,name in enumerate(x.columns):\n",
    "    print(name ,\" have coefficients = \", LG.coef_[0][i] )"
   ]
  },
  {
   "cell_type": "code",
   "execution_count": 298,
   "id": "3588a307",
   "metadata": {},
   "outputs": [],
   "source": [
    "# Validate the model\n",
    "y_predict= LG.predict(x_test)"
   ]
  },
  {
   "cell_type": "code",
   "execution_count": 301,
   "id": "7303ef44",
   "metadata": {},
   "outputs": [
    {
     "data": {
      "text/plain": [
       "(127, 1)"
      ]
     },
     "execution_count": 301,
     "metadata": {},
     "output_type": "execute_result"
    }
   ],
   "source": [
    "y_predict.shape"
   ]
  },
  {
   "cell_type": "code",
   "execution_count": 302,
   "id": "8539f550",
   "metadata": {},
   "outputs": [
    {
     "data": {
      "text/plain": [
       "(127, 1)"
      ]
     },
     "execution_count": 302,
     "metadata": {},
     "output_type": "execute_result"
    }
   ],
   "source": [
    "y_test.shape"
   ]
  },
  {
   "cell_type": "code",
   "execution_count": 303,
   "id": "c93f2f98",
   "metadata": {},
   "outputs": [
    {
     "data": {
      "text/plain": [
       "0.7469657913158887"
      ]
     },
     "execution_count": 303,
     "metadata": {},
     "output_type": "execute_result"
    }
   ],
   "source": [
    "LG.score(x_test,y_test)"
   ]
  },
  {
   "cell_type": "code",
   "execution_count": 304,
   "id": "be0caa12",
   "metadata": {},
   "outputs": [
    {
     "data": {
      "text/plain": [
       "0.6047565786176368"
      ]
     },
     "execution_count": 304,
     "metadata": {},
     "output_type": "execute_result"
    }
   ],
   "source": [
    " r2_score(y_predict,y_test)"
   ]
  },
  {
   "cell_type": "code",
   "execution_count": 306,
   "id": "494e91d1",
   "metadata": {},
   "outputs": [
    {
     "data": {
      "text/plain": [
       "3.653919962137451"
      ]
     },
     "execution_count": 306,
     "metadata": {},
     "output_type": "execute_result"
    }
   ],
   "source": [
    "mean_absolute_error(y_predict,y_test)"
   ]
  },
  {
   "cell_type": "code",
   "execution_count": 308,
   "id": "0e4cd5ad",
   "metadata": {},
   "outputs": [],
   "source": [
    "mse=mean_squared_error(y_predict,y_test)"
   ]
  },
  {
   "cell_type": "code",
   "execution_count": 310,
   "id": "2b46f22d",
   "metadata": {},
   "outputs": [],
   "source": [
    "rmse= np.sqrt(mse)"
   ]
  },
  {
   "cell_type": "code",
   "execution_count": 311,
   "id": "64d47eff",
   "metadata": {},
   "outputs": [
    {
     "data": {
      "text/plain": [
       "4.871575163129047"
      ]
     },
     "execution_count": 311,
     "metadata": {},
     "output_type": "execute_result"
    }
   ],
   "source": [
    "rmse"
   ]
  },
  {
   "cell_type": "code",
   "execution_count": 313,
   "id": "ff45756c",
   "metadata": {},
   "outputs": [],
   "source": [
    "# Linear Regression with cross validate\n",
    "\n",
    "mse= cross_validate(LG, x,y,scoring='neg_mean_squared_error', cv=5)"
   ]
  },
  {
   "cell_type": "code",
   "execution_count": 317,
   "id": "356a5c0e",
   "metadata": {},
   "outputs": [
    {
     "data": {
      "text/plain": [
       "{'fit_time': array([0.01998568, 0.00499678, 0.00299835, 0.00299954, 0.00299835]),\n",
       " 'score_time': array([0.00399756, 0.00199866, 0.00199771, 0.00199747, 0.00099969]),\n",
       " 'test_score': array([-12.46030057, -26.04862111, -33.07413798, -80.76237112,\n",
       "        -33.31360656])}"
      ]
     },
     "execution_count": 317,
     "metadata": {},
     "output_type": "execute_result"
    }
   ],
   "source": [
    "mse"
   ]
  },
  {
   "cell_type": "markdown",
   "id": "22941554",
   "metadata": {},
   "source": [
    "# Ridge Regression"
   ]
  },
  {
   "cell_type": "code",
   "execution_count": 318,
   "id": "38d52354",
   "metadata": {},
   "outputs": [],
   "source": [
    "R= Ridge()"
   ]
  },
  {
   "cell_type": "code",
   "execution_count": 319,
   "id": "e1610031",
   "metadata": {},
   "outputs": [],
   "source": [
    "#  lambda values\n",
    "\n",
    "parameters:{'alpha':[1e-15,1e-10,1e-8,1e-3,1e-2,1,5,10,20,30,35,40,45,50,55,100]}"
   ]
  },
  {
   "cell_type": "code",
   "execution_count": 320,
   "id": "55e8489e",
   "metadata": {},
   "outputs": [],
   "source": [
    "RG=GridSearchCV(R,parameters,scoring='neg_mean_squared_error', cv=5)"
   ]
  },
  {
   "cell_type": "code",
   "execution_count": 321,
   "id": "c1cc061b",
   "metadata": {},
   "outputs": [
    {
     "data": {
      "text/plain": [
       "GridSearchCV(cv=5, estimator=Ridge(),\n",
       "             param_grid={'alpha': [1e-15, 1e-10, 1e-08, 0.001, 0.01, 10.0,\n",
       "                                   100000.0, 10000000000.0, 1e+20, 1e+30, 1e+35,\n",
       "                                   1e+40, 1e+45, 1e+50, 1e+55, 1e+100]},\n",
       "             scoring='neg_mean_squared_error')"
      ]
     },
     "execution_count": 321,
     "metadata": {},
     "output_type": "execute_result"
    }
   ],
   "source": [
    "RG.fit(x,y)"
   ]
  },
  {
   "cell_type": "code",
   "execution_count": 322,
   "id": "6617db0c",
   "metadata": {},
   "outputs": [
    {
     "data": {
      "text/plain": [
       "{'alpha': 10.0}"
      ]
     },
     "execution_count": 322,
     "metadata": {},
     "output_type": "execute_result"
    }
   ],
   "source": [
    "RG.best_params_"
   ]
  },
  {
   "cell_type": "code",
   "execution_count": 323,
   "id": "e16c8cb3",
   "metadata": {},
   "outputs": [
    {
     "data": {
      "text/plain": [
       "-33.39522445903664"
      ]
     },
     "execution_count": 323,
     "metadata": {},
     "output_type": "execute_result"
    }
   ],
   "source": [
    "RG.best_score_"
   ]
  },
  {
   "cell_type": "code",
   "execution_count": null,
   "id": "be6e5abb",
   "metadata": {},
   "outputs": [],
   "source": []
  },
  {
   "cell_type": "code",
   "execution_count": null,
   "id": "9d91fb72",
   "metadata": {},
   "outputs": [],
   "source": []
  },
  {
   "cell_type": "markdown",
   "id": "4a5f0c15",
   "metadata": {},
   "source": [
    "# LAsso Regression"
   ]
  },
  {
   "cell_type": "code",
   "execution_count": 324,
   "id": "2035bab6",
   "metadata": {},
   "outputs": [],
   "source": [
    "from sklearn.linear_model import Lasso"
   ]
  },
  {
   "cell_type": "code",
   "execution_count": 325,
   "id": "6d411807",
   "metadata": {},
   "outputs": [],
   "source": [
    "L=Lasso()"
   ]
  },
  {
   "cell_type": "code",
   "execution_count": 327,
   "id": "9729603b",
   "metadata": {},
   "outputs": [],
   "source": [
    "LG= GridSearchCV(L,parameters, scoring='neg_mean_squared_error', cv=5)"
   ]
  },
  {
   "cell_type": "code",
   "execution_count": 328,
   "id": "b49fd8f8",
   "metadata": {},
   "outputs": [
    {
     "data": {
      "text/plain": [
       "GridSearchCV(cv=5, estimator=Lasso(),\n",
       "             param_grid={'alpha': [1e-15, 1e-10, 1e-08, 0.001, 0.01, 10.0,\n",
       "                                   100000.0, 10000000000.0, 1e+20, 1e+30, 1e+35,\n",
       "                                   1e+40, 1e+45, 1e+50, 1e+55, 1e+100]},\n",
       "             scoring='neg_mean_squared_error')"
      ]
     },
     "execution_count": 328,
     "metadata": {},
     "output_type": "execute_result"
    }
   ],
   "source": [
    "LG.fit(x,y)"
   ]
  },
  {
   "cell_type": "code",
   "execution_count": 329,
   "id": "df86162d",
   "metadata": {},
   "outputs": [
    {
     "data": {
      "text/plain": [
       "{'alpha': 0.01}"
      ]
     },
     "execution_count": 329,
     "metadata": {},
     "output_type": "execute_result"
    }
   ],
   "source": [
    "LG.best_params_"
   ]
  },
  {
   "cell_type": "code",
   "execution_count": 330,
   "id": "2726a791",
   "metadata": {},
   "outputs": [
    {
     "data": {
      "text/plain": [
       "-36.200735156751755"
      ]
     },
     "execution_count": 330,
     "metadata": {},
     "output_type": "execute_result"
    }
   ],
   "source": [
    "LG.best_score_"
   ]
  },
  {
   "cell_type": "code",
   "execution_count": null,
   "id": "eab3be6c",
   "metadata": {},
   "outputs": [],
   "source": []
  }
 ],
 "metadata": {
  "kernelspec": {
   "display_name": "Python 3",
   "language": "python",
   "name": "python3"
  },
  "language_info": {
   "codemirror_mode": {
    "name": "ipython",
    "version": 3
   },
   "file_extension": ".py",
   "mimetype": "text/x-python",
   "name": "python",
   "nbconvert_exporter": "python",
   "pygments_lexer": "ipython3",
   "version": "3.8.8"
  }
 },
 "nbformat": 4,
 "nbformat_minor": 5
}
